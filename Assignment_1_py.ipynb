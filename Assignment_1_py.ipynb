{
  "nbformat": 4,
  "nbformat_minor": 0,
  "metadata": {
    "colab": {
      "provenance": [],
      "mount_file_id": "1NPgpoFt6zwNgrfRMgKjk3ZgIUvVORRnb",
      "authorship_tag": "ABX9TyM4IboIvKIswUTPViUrlOsW",
      "include_colab_link": true
    },
    "kernelspec": {
      "name": "python3",
      "display_name": "Python 3"
    },
    "language_info": {
      "name": "python"
    }
  },
  "cells": [
    {
      "cell_type": "markdown",
      "metadata": {
        "id": "view-in-github",
        "colab_type": "text"
      },
      "source": [
        "<a href=\"https://colab.research.google.com/github/BhumikaJoshi13/India-Trails/blob/main/Assignment_1_py.ipynb\" target=\"_parent\"><img src=\"https://colab.research.google.com/assets/colab-badge.svg\" alt=\"Open In Colab\"/></a>"
      ]
    },
    {
      "cell_type": "code",
      "source": [
        "import openpyxl\n",
        "\n",
        "\n",
        "workbook = openpyxl.load_workbook('/content/drive/MyDrive/Py Assignament (2).xlsx')\n",
        "\n",
        "\n",
        "sheet_name = workbook.sheetnames[0]\n",
        "\n",
        "\n",
        "worksheet = workbook[sheet_name]\n",
        "\n",
        "\n",
        "for row in worksheet.iter_rows():\n",
        "    row_values = [cell.value for cell in row]\n",
        "    print(row_values)"
      ],
      "metadata": {
        "id": "kbNNbOwJ7fO_",
        "colab": {
          "base_uri": "https://localhost:8080/"
        },
        "outputId": "8fe68576-aa87-45b5-c204-2adb8602db62"
      },
      "execution_count": 2,
      "outputs": [
        {
          "output_type": "stream",
          "name": "stdout",
          "text": [
            "['S No', 'Name', 'Team Name', 'User ID']\n",
            "[1.0, 'Soumita M', 'Winning Culture Lab', 280.0]\n",
            "[2.0, 'Subhangi 0', 'Winning Culture Lab', 75.0]\n",
            "[3.0, 'Nitin Shane', 'Winning Culture Lab', 1124.0]\n",
            "[4.0, 'Merwin', 'Mentor', 295.0]\n",
            "[5.0, 'fardinkamal62', 'Human Capital Lab', 263.0]\n",
            "[6.0, '__riddhi_213_', 'Human Capital Lab', 504.0]\n",
            "[7.0, 'Rohit Dutta', 'Mentor', 266.0]\n",
            "[8.0, 'imshawan', 'Tech Lab', 71.0]\n",
            "[9.0, 'Anuraj_Saini', 'BrandTech Lab', 342.0]\n",
            "[10.0, 'sharath', 'Student Unicorn Lab', 3367.0]\n",
            "[11.0, 'Ronak 0', 'Tech Lab', 302.0]\n",
            "[12.0, 'Amrit Malviya', 'Brandtech Lab', 336.0]\n",
            "[13.0, 'Saurabh', 'Mentor', 271.0]\n",
            "[14.0, 'darshimalde', 'Student Unicorn Lab', 3169.0]\n",
            "[15.0, 'Shagun', 'Tech Lab', 100.0]\n",
            "[16.0, 'Ayisha', 'Student Unicorn Lab', 3406.0]\n",
            "[17.0, 'Palash', 'Growpital', 69.0]\n",
            "[18.0, 'raman', 'Growpital', 539.0]\n",
            "[19.0, 'Nishant', 'Growpital', 299.0]\n",
            "[20.0, 'Vatsal', 'Kringle', 3408.0]\n",
            "[21.0, 'devmenkr', 'Kringle', 360.0]\n"
          ]
        }
      ]
    },
    {
      "cell_type": "markdown",
      "source": [
        "# New Section"
      ],
      "metadata": {
        "id": "OtCcl7uf4WxS"
      }
    }
  ]
}